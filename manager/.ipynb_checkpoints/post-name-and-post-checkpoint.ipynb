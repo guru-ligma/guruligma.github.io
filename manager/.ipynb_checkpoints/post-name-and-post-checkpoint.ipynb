{
 "cells": [
  {
   "cell_type": "code",
   "execution_count": 8,
   "metadata": {
    "colab": {
     "base_uri": "https://localhost:8080/"
    },
    "executionInfo": {
     "elapsed": 22095,
     "status": "ok",
     "timestamp": 1709935949211,
     "user": {
      "displayName": "guru ligma",
      "userId": "07180670367718730695"
     },
     "user_tz": 360
    },
    "id": "5oTvn-Y0P3Tu",
    "outputId": "ac3b57f9-008b-4728-f6a7-1f0277fd48d0"
   },
   "outputs": [],
   "source": [
    "import json\n",
    "import os\n",
    "from typing import *\n",
    "# from google.colab import drive\n",
    "# drive.mount('/content/drive')\n",
    "\n",
    "bulk_of_post: str = \"\"\"Like My Work? Support me by checking out my other work on other platforms\n",
    "found in my bio at: https://linkin.bio/guru-ligma or see my website at: \n",
    "https://guru-ligma.github.io/guruligma.github.io\"\"\"\n",
    "border = \"#======================================#\"\n",
    "# data_file: str = os.path.join(\n",
    "#     \"drive\",\n",
    "#     \"MyDrive\",\n",
    "#     \"COLAB_FILES\",\n",
    "#     \"data.json\"\n",
    "# )\n",
    "data_file = \"data.json\"\n",
    "try:\n",
    "  with open(data_file, \"r\") as f:\n",
    "    data = json.load(f)\n",
    "except FileNotFoundError:\n",
    "  with open(data_file, \"w\") as f:\n",
    "    data = {\"data\": []}\n",
    "    json.dump(data, f)\n",
    "\n",
    "\n",
    "def add_pltfrm() -> None:\n",
    "  platform: str = input(\"Name of platform: >>>_\")\n",
    "  char_length: int = int(input(\"How many chars are you limited to? (int) >>>_\"))\n",
    "  hashtags: str = input(\"What hashtags to add to the end of the posts? >>>_\")\n",
    "  tagins: str = input(\"Who do you wish to tagin to these posts? >>>_\")\n",
    "  guess_len: str = bulk_of_post + hashtags + tagins + border\n",
    "  guess_len: int = len(guess_len)\n",
    "  use_border: bool = guess_len <= char_length * .75\n",
    "  data[\"data\"].append(\n",
    "      {\n",
    "          \"name\": platform,\n",
    "          \"char_len\": char_length,\n",
    "          \"use_border\": use_border,\n",
    "          \"tagins\": tagins,\n",
    "          \"hashtags\": hashtags\n",
    "      }\n",
    "    )\n",
    "  with open(data_file, \"w\") as f:\n",
    "    json.dump(data, f)\n",
    "\n",
    "\n",
    "def do_post() -> None:\n",
    "  name: str = input(\"Enter the name of the art work: >>>_\")\n",
    "  for i in data[\"data\"]:\n",
    "    print(f\"The Platform of {i['name']}:\")\n",
    "    if i[\"use_border\"]:\n",
    "      post_text = f\"{name}\\n{border}\\n{bulk_of_post}\"\n",
    "    else:\n",
    "      post_text = f\"{name}\\n{bulk_of_post}\"\n",
    "    post_text = f\"{post_text}\\n{i['tagins']}\\n{i['hashtags']}\"\n",
    "    if len(post_text) > i[\"char_len\"]:\n",
    "      print(\"\\nThe Length of the Post is longer than the char limit. you may need to shrink the post manually\")\n",
    "    print(\"\\nPost:\\n\\n\" + post_text + \"\\n\\n\")"
   ]
  },
  {
   "cell_type": "code",
   "execution_count": null,
   "metadata": {
    "id": "8fRfeaJxYjqv"
   },
   "outputs": [],
   "source": [
    "add_pltfrm()"
   ]
  },
  {
   "cell_type": "code",
   "execution_count": 9,
   "metadata": {
    "id": "LgQGCTfDITHF"
   },
   "outputs": [
    {
     "name": "stdin",
     "output_type": "stream",
     "text": [
      "Enter the name of the art work: >>>_ test\n"
     ]
    },
    {
     "name": "stdout",
     "output_type": "stream",
     "text": [
      "The Platform of X (twitter):\n",
      "\n",
      "The Length of the Post is longer than the char limit. you may need to shrink the post manually\n",
      "\n",
      "Post:\n",
      "\n",
      "test\n",
      "#======================================#\n",
      "Like My Work? Support me by checking out my other work on other platforms\n",
      "found in my bio at: https://linkin.bio/guru-ligma or see my website at: \n",
      "https://guru-ligma.github.io/guruligma.github.io\n",
      "@NightCafeStudio\n",
      "#AIArt #NightCafe #AIArtwork\n",
      "\n",
      "\n",
      "The Platform of Facebook:\n",
      "\n",
      "Post:\n",
      "\n",
      "test\n",
      "#======================================#\n",
      "Like My Work? Support me by checking out my other work on other platforms\n",
      "found in my bio at: https://linkin.bio/guru-ligma or see my website at: \n",
      "https://guru-ligma.github.io/guruligma.github.io\n",
      "@NightCafeStudio\n",
      "#NightCafeStudio #AIArt\n",
      "\n",
      "\n",
      "The Platform of Instagram:\n",
      "\n",
      "Post:\n",
      "\n",
      "test\n",
      "#======================================#\n",
      "Like My Work? Support me by checking out my other work on other platforms\n",
      "found in my bio at: https://linkin.bio/guru-ligma or see my website at: \n",
      "https://guru-ligma.github.io/guruligma.github.io\n",
      "@NightCafeStudio\n",
      "#AIArt #NightCafeStudio\n",
      "\n",
      "\n",
      "The Platform of Threads By IG:\n",
      "\n",
      "Post:\n",
      "\n",
      "test\n",
      "#======================================#\n",
      "Like My Work? Support me by checking out my other work on other platforms\n",
      "found in my bio at: https://linkin.bio/guru-ligma or see my website at: \n",
      "https://guru-ligma.github.io/guruligma.github.io\n",
      "@NightCafeStudio\n",
      "#AIArt #NightCafeStudio\n",
      "\n",
      "\n"
     ]
    }
   ],
   "source": [
    "do_post()"
   ]
  },
  {
   "cell_type": "code",
   "execution_count": null,
   "metadata": {},
   "outputs": [],
   "source": []
  }
 ],
 "metadata": {
  "colab": {
   "authorship_tag": "ABX9TyNw3b/5c+VrU+kloiCrMjdL",
   "provenance": []
  },
  "kernelspec": {
   "display_name": "Python 3 (ipykernel)",
   "language": "python",
   "name": "python3"
  },
  "language_info": {
   "codemirror_mode": {
    "name": "ipython",
    "version": 3
   },
   "file_extension": ".py",
   "mimetype": "text/x-python",
   "name": "python",
   "nbconvert_exporter": "python",
   "pygments_lexer": "ipython3",
   "version": "3.11.6"
  }
 },
 "nbformat": 4,
 "nbformat_minor": 4
}
